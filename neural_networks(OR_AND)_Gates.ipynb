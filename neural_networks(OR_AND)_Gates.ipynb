{
 "cells": [
  {
   "cell_type": "code",
   "execution_count": 1,
   "metadata": {},
   "outputs": [],
   "source": [
    "    %matplotlib inline\n",
    "    import numpy as np\n",
    "    import pandas as pd\n",
    "    import matplotlib.pyplot as plt\n",
    "    import seaborn as sns\n",
    "    sns.set()\n",
    "    from scipy import optimize\n",
    "    from ipywidgets import *\n",
    "    from IPython.display import SVG\n",
    "    from sklearn import datasets\n",
    "    "
   ]
  },
  {
   "cell_type": "code",
   "execution_count": 2,
   "metadata": {},
   "outputs": [
    {
     "data": {
      "text/html": [
       "<div>\n",
       "<style scoped>\n",
       "    .dataframe tbody tr th:only-of-type {\n",
       "        vertical-align: middle;\n",
       "    }\n",
       "\n",
       "    .dataframe tbody tr th {\n",
       "        vertical-align: top;\n",
       "    }\n",
       "\n",
       "    .dataframe thead th {\n",
       "        text-align: right;\n",
       "    }\n",
       "</style>\n",
       "<table border=\"1\" class=\"dataframe\">\n",
       "  <thead>\n",
       "    <tr style=\"text-align: right;\">\n",
       "      <th></th>\n",
       "      <th>x1</th>\n",
       "      <th>x2</th>\n",
       "      <th>y</th>\n",
       "    </tr>\n",
       "  </thead>\n",
       "  <tbody>\n",
       "    <tr>\n",
       "      <td>0</td>\n",
       "      <td>0</td>\n",
       "      <td>0</td>\n",
       "      <td>0</td>\n",
       "    </tr>\n",
       "    <tr>\n",
       "      <td>1</td>\n",
       "      <td>0</td>\n",
       "      <td>1</td>\n",
       "      <td>0</td>\n",
       "    </tr>\n",
       "    <tr>\n",
       "      <td>2</td>\n",
       "      <td>1</td>\n",
       "      <td>0</td>\n",
       "      <td>0</td>\n",
       "    </tr>\n",
       "    <tr>\n",
       "      <td>3</td>\n",
       "      <td>1</td>\n",
       "      <td>1</td>\n",
       "      <td>1</td>\n",
       "    </tr>\n",
       "  </tbody>\n",
       "</table>\n",
       "</div>"
      ],
      "text/plain": [
       "   x1  x2  y\n",
       "0   0   0  0\n",
       "1   0   1  0\n",
       "2   1   0  0\n",
       "3   1   1  1"
      ]
     },
     "execution_count": 2,
     "metadata": {},
     "output_type": "execute_result"
    }
   ],
   "source": [
    "AND = pd.DataFrame({'x1':(0,0,1,1), 'x2':(0,1,0,1), 'y':(0,0,0,1)})\n",
    "AND  ##  X1 & X2 are features columns and Y is label (AND relation)"
   ]
  },
  {
   "cell_type": "raw",
   "metadata": {},
   "source": [
    "# First we need to initialize weights to small,random values(can be positive and negative)"
   ]
  },
  {
   "cell_type": "code",
   "execution_count": 3,
   "metadata": {},
   "outputs": [],
   "source": [
    "w=np.random.randn(3)*1e-4"
   ]
  },
  {
   "cell_type": "raw",
   "metadata": {},
   "source": [
    "Then, a simple activation function for calculating g(h):"
   ]
  },
  {
   "cell_type": "code",
   "execution_count": 4,
   "metadata": {},
   "outputs": [
    {
     "data": {
      "text/plain": [
       "array([-1.54433914e-05, -2.45193863e-05,  5.86900166e-05])"
      ]
     },
     "execution_count": 4,
     "metadata": {},
     "output_type": "execute_result"
    }
   ],
   "source": [
    "w"
   ]
  },
  {
   "cell_type": "code",
   "execution_count": 5,
   "metadata": {},
   "outputs": [],
   "source": [
    "inputs = AND[['x1','x2']]\n",
    "target = AND['y']"
   ]
  },
  {
   "cell_type": "code",
   "execution_count": 6,
   "metadata": {},
   "outputs": [],
   "source": [
    "g=lambda inputs,weights: np.where(np.dot(inputs, weights)>0,1,0)"
   ]
  },
  {
   "cell_type": "raw",
   "metadata": {},
   "source": [
    "Finally, a training function that iterates the learning algorithm, returning the adapted weights"
   ]
  },
  {
   "cell_type": "code",
   "execution_count": 7,
   "metadata": {},
   "outputs": [
    {
     "data": {
      "text/plain": [
       "array([[1, 4],\n",
       "       [2, 5],\n",
       "       [3, 6]])"
      ]
     },
     "execution_count": 7,
     "metadata": {},
     "output_type": "execute_result"
    }
   ],
   "source": [
    "np.c_[np.array([1,2,3]), np.array([4,5,6])] ##example how np.c works"
   ]
  },
  {
   "cell_type": "code",
   "execution_count": 8,
   "metadata": {},
   "outputs": [
    {
     "data": {
      "text/html": [
       "<div>\n",
       "<style scoped>\n",
       "    .dataframe tbody tr th:only-of-type {\n",
       "        vertical-align: middle;\n",
       "    }\n",
       "\n",
       "    .dataframe tbody tr th {\n",
       "        vertical-align: top;\n",
       "    }\n",
       "\n",
       "    .dataframe thead th {\n",
       "        text-align: right;\n",
       "    }\n",
       "</style>\n",
       "<table border=\"1\" class=\"dataframe\">\n",
       "  <thead>\n",
       "    <tr style=\"text-align: right;\">\n",
       "      <th></th>\n",
       "      <th>x1</th>\n",
       "      <th>x2</th>\n",
       "    </tr>\n",
       "  </thead>\n",
       "  <tbody>\n",
       "    <tr>\n",
       "      <td>0</td>\n",
       "      <td>0</td>\n",
       "      <td>0</td>\n",
       "    </tr>\n",
       "    <tr>\n",
       "      <td>1</td>\n",
       "      <td>0</td>\n",
       "      <td>1</td>\n",
       "    </tr>\n",
       "    <tr>\n",
       "      <td>2</td>\n",
       "      <td>1</td>\n",
       "      <td>0</td>\n",
       "    </tr>\n",
       "    <tr>\n",
       "      <td>3</td>\n",
       "      <td>1</td>\n",
       "      <td>1</td>\n",
       "    </tr>\n",
       "  </tbody>\n",
       "</table>\n",
       "</div>"
      ],
      "text/plain": [
       "   x1  x2\n",
       "0   0   0\n",
       "1   0   1\n",
       "2   1   0\n",
       "3   1   1"
      ]
     },
     "execution_count": 8,
     "metadata": {},
     "output_type": "execute_result"
    }
   ],
   "source": [
    "inputs=AND[['x1','x2']]\n",
    "inputs"
   ]
  },
  {
   "cell_type": "code",
   "execution_count": 9,
   "metadata": {},
   "outputs": [
    {
     "data": {
      "text/plain": [
       "array([[-1.],\n",
       "       [-1.],\n",
       "       [-1.],\n",
       "       [-1.]])"
      ]
     },
     "execution_count": 9,
     "metadata": {},
     "output_type": "execute_result"
    }
   ],
   "source": [
    "-np.ones((len(inputs), 1))"
   ]
  },
  {
   "cell_type": "code",
   "execution_count": 10,
   "metadata": {},
   "outputs": [],
   "source": [
    "a=np.c_[inputs, -np.ones((len(inputs), 1))]"
   ]
  },
  {
   "cell_type": "code",
   "execution_count": 11,
   "metadata": {},
   "outputs": [
    {
     "data": {
      "text/plain": [
       "array([-1.54433914e-05, -2.45193863e-05,  5.86900166e-05])"
      ]
     },
     "execution_count": 11,
     "metadata": {},
     "output_type": "execute_result"
    }
   ],
   "source": [
    "w"
   ]
  },
  {
   "cell_type": "code",
   "execution_count": 12,
   "metadata": {},
   "outputs": [
    {
     "data": {
      "text/plain": [
       "array([-5.86900166e-05, -8.32094029e-05, -7.41334080e-05, -9.86527944e-05])"
      ]
     },
     "execution_count": 12,
     "metadata": {},
     "output_type": "execute_result"
    }
   ],
   "source": [
    "np.dot(a,w)"
   ]
  },
  {
   "cell_type": "code",
   "execution_count": 13,
   "metadata": {},
   "outputs": [],
   "source": [
    "def train(inputs, targets, weights, eta, n_iterations):\n",
    "    # Add the inputs that match the bias node\n",
    "    inputs = np.c_[inputs, -np.ones((len(inputs),1))]\n",
    "\n",
    "    for n in range(n_iterations):\n",
    "        \n",
    "        activations = g(inputs, weights);\n",
    "        print(n, activations)\n",
    "        weights -= eta*np.dot(np.transpose(inputs), activations - targets)\n",
    "        print(n, weights)\n",
    "    return(weights)"
   ]
  },
  {
   "cell_type": "raw",
   "metadata": {},
   "source": [
    "Let's test it first on the AND function"
   ]
  },
  {
   "cell_type": "code",
   "execution_count": 14,
   "metadata": {},
   "outputs": [
    {
     "name": "stdout",
     "output_type": "stream",
     "text": [
      "0 [0 0 0 0]\n",
      "0 [ 0.00098456  0.00097548 -0.00094131]\n",
      "1 [1 1 1 1]\n",
      "1 [-1.54433914e-05 -2.45193863e-05  2.05869002e-03]\n",
      "2 [0 0 0 0]\n",
      "2 [0.00098456 0.00097548 0.00105869]\n",
      "3 [0 0 0 1]\n",
      "3 [0.00098456 0.00097548 0.00105869]\n",
      "4 [0 0 0 1]\n",
      "4 [0.00098456 0.00097548 0.00105869]\n",
      "5 [0 0 0 1]\n",
      "5 [0.00098456 0.00097548 0.00105869]\n",
      "6 [0 0 0 1]\n",
      "6 [0.00098456 0.00097548 0.00105869]\n",
      "7 [0 0 0 1]\n",
      "7 [0.00098456 0.00097548 0.00105869]\n",
      "8 [0 0 0 1]\n",
      "8 [0.00098456 0.00097548 0.00105869]\n",
      "9 [0 0 0 1]\n",
      "9 [0.00098456 0.00097548 0.00105869]\n",
      "10 [0 0 0 1]\n",
      "10 [0.00098456 0.00097548 0.00105869]\n",
      "11 [0 0 0 1]\n",
      "11 [0.00098456 0.00097548 0.00105869]\n",
      "12 [0 0 0 1]\n",
      "12 [0.00098456 0.00097548 0.00105869]\n",
      "13 [0 0 0 1]\n",
      "13 [0.00098456 0.00097548 0.00105869]\n",
      "14 [0 0 0 1]\n",
      "14 [0.00098456 0.00097548 0.00105869]\n",
      "15 [0 0 0 1]\n",
      "15 [0.00098456 0.00097548 0.00105869]\n",
      "16 [0 0 0 1]\n",
      "16 [0.00098456 0.00097548 0.00105869]\n",
      "17 [0 0 0 1]\n",
      "17 [0.00098456 0.00097548 0.00105869]\n",
      "18 [0 0 0 1]\n",
      "18 [0.00098456 0.00097548 0.00105869]\n",
      "19 [0 0 0 1]\n",
      "19 [0.00098456 0.00097548 0.00105869]\n"
     ]
    },
    {
     "data": {
      "text/plain": [
       "0    0\n",
       "1    0\n",
       "2    0\n",
       "3    1\n",
       "Name: y, dtype: int64"
      ]
     },
     "execution_count": 14,
     "metadata": {},
     "output_type": "execute_result"
    }
   ],
   "source": [
    "inputs = AND[['x1','x2']]\n",
    "target = AND['y']\n",
    "\n",
    "w= train(inputs, target, w, 0.001,20)\n",
    "target"
   ]
  },
  {
   "cell_type": "raw",
   "metadata": {},
   "source": [
    "checking the performance"
   ]
  },
  {
   "cell_type": "code",
   "execution_count": 15,
   "metadata": {},
   "outputs": [
    {
     "data": {
      "text/plain": [
       "array([0, 0, 0, 1])"
      ]
     },
     "execution_count": 15,
     "metadata": {},
     "output_type": "execute_result"
    }
   ],
   "source": [
    "g(np.c_[inputs, -np.ones((len(inputs), 1))], w)"
   ]
  },
  {
   "cell_type": "raw",
   "metadata": {},
   "source": [
    "Thus ,it has learned the fuction perfectly,Now for OR"
   ]
  },
  {
   "cell_type": "code",
   "execution_count": 16,
   "metadata": {},
   "outputs": [
    {
     "data": {
      "text/html": [
       "<div>\n",
       "<style scoped>\n",
       "    .dataframe tbody tr th:only-of-type {\n",
       "        vertical-align: middle;\n",
       "    }\n",
       "\n",
       "    .dataframe tbody tr th {\n",
       "        vertical-align: top;\n",
       "    }\n",
       "\n",
       "    .dataframe thead th {\n",
       "        text-align: right;\n",
       "    }\n",
       "</style>\n",
       "<table border=\"1\" class=\"dataframe\">\n",
       "  <thead>\n",
       "    <tr style=\"text-align: right;\">\n",
       "      <th></th>\n",
       "      <th>x1</th>\n",
       "      <th>x2</th>\n",
       "      <th>y</th>\n",
       "    </tr>\n",
       "  </thead>\n",
       "  <tbody>\n",
       "    <tr>\n",
       "      <td>0</td>\n",
       "      <td>0</td>\n",
       "      <td>0</td>\n",
       "      <td>0</td>\n",
       "    </tr>\n",
       "    <tr>\n",
       "      <td>1</td>\n",
       "      <td>0</td>\n",
       "      <td>1</td>\n",
       "      <td>1</td>\n",
       "    </tr>\n",
       "    <tr>\n",
       "      <td>2</td>\n",
       "      <td>1</td>\n",
       "      <td>0</td>\n",
       "      <td>1</td>\n",
       "    </tr>\n",
       "    <tr>\n",
       "      <td>3</td>\n",
       "      <td>1</td>\n",
       "      <td>1</td>\n",
       "      <td>1</td>\n",
       "    </tr>\n",
       "  </tbody>\n",
       "</table>\n",
       "</div>"
      ],
      "text/plain": [
       "   x1  x2  y\n",
       "0   0   0  0\n",
       "1   0   1  1\n",
       "2   1   0  1\n",
       "3   1   1  1"
      ]
     },
     "execution_count": 16,
     "metadata": {},
     "output_type": "execute_result"
    }
   ],
   "source": [
    "OR = pd.DataFrame({'x1':(0,0,1,1), 'x2':(0,1,0,1), 'y':(0,1,1,1)})\n",
    "OR"
   ]
  },
  {
   "cell_type": "code",
   "execution_count": 18,
   "metadata": {},
   "outputs": [],
   "source": [
    "w=np.random.randn(3)*1e-4"
   ]
  },
  {
   "cell_type": "code",
   "execution_count": 22,
   "metadata": {},
   "outputs": [
    {
     "name": "stdout",
     "output_type": "stream",
     "text": [
      "0 [0 1 1 1]\n",
      "0 [4.99947286e-01 5.00029535e-01 7.80134244e-05]\n",
      "1 [0 1 1 1]\n",
      "1 [4.99947286e-01 5.00029535e-01 7.80134244e-05]\n",
      "2 [0 1 1 1]\n",
      "2 [4.99947286e-01 5.00029535e-01 7.80134244e-05]\n",
      "3 [0 1 1 1]\n",
      "3 [4.99947286e-01 5.00029535e-01 7.80134244e-05]\n",
      "4 [0 1 1 1]\n",
      "4 [4.99947286e-01 5.00029535e-01 7.80134244e-05]\n",
      "5 [0 1 1 1]\n",
      "5 [4.99947286e-01 5.00029535e-01 7.80134244e-05]\n",
      "6 [0 1 1 1]\n",
      "6 [4.99947286e-01 5.00029535e-01 7.80134244e-05]\n",
      "7 [0 1 1 1]\n",
      "7 [4.99947286e-01 5.00029535e-01 7.80134244e-05]\n",
      "8 [0 1 1 1]\n",
      "8 [4.99947286e-01 5.00029535e-01 7.80134244e-05]\n",
      "9 [0 1 1 1]\n",
      "9 [4.99947286e-01 5.00029535e-01 7.80134244e-05]\n",
      "10 [0 1 1 1]\n",
      "10 [4.99947286e-01 5.00029535e-01 7.80134244e-05]\n",
      "11 [0 1 1 1]\n",
      "11 [4.99947286e-01 5.00029535e-01 7.80134244e-05]\n",
      "12 [0 1 1 1]\n",
      "12 [4.99947286e-01 5.00029535e-01 7.80134244e-05]\n",
      "13 [0 1 1 1]\n",
      "13 [4.99947286e-01 5.00029535e-01 7.80134244e-05]\n",
      "14 [0 1 1 1]\n",
      "14 [4.99947286e-01 5.00029535e-01 7.80134244e-05]\n",
      "15 [0 1 1 1]\n",
      "15 [4.99947286e-01 5.00029535e-01 7.80134244e-05]\n",
      "16 [0 1 1 1]\n",
      "16 [4.99947286e-01 5.00029535e-01 7.80134244e-05]\n",
      "17 [0 1 1 1]\n",
      "17 [4.99947286e-01 5.00029535e-01 7.80134244e-05]\n",
      "18 [0 1 1 1]\n",
      "18 [4.99947286e-01 5.00029535e-01 7.80134244e-05]\n",
      "19 [0 1 1 1]\n",
      "19 [4.99947286e-01 5.00029535e-01 7.80134244e-05]\n"
     ]
    }
   ],
   "source": [
    "inputs=OR[['x1','x2']]\n",
    "target=OR['y']\n",
    "\n",
    "w=train(inputs, target, w, 0.25,20)"
   ]
  },
  {
   "cell_type": "code",
   "execution_count": 23,
   "metadata": {},
   "outputs": [
    {
     "data": {
      "text/plain": [
       "array([0, 1, 1, 1])"
      ]
     },
     "execution_count": 23,
     "metadata": {},
     "output_type": "execute_result"
    }
   ],
   "source": [
    "g(np.c_[inputs, -np.ones((len(inputs), 1))], w)"
   ]
  }
 ],
 "metadata": {
  "kernelspec": {
   "display_name": "Python 3",
   "language": "python",
   "name": "python3"
  },
  "language_info": {
   "codemirror_mode": {
    "name": "ipython",
    "version": 3
   },
   "file_extension": ".py",
   "mimetype": "text/x-python",
   "name": "python",
   "nbconvert_exporter": "python",
   "pygments_lexer": "ipython3",
   "version": "3.7.4"
  }
 },
 "nbformat": 4,
 "nbformat_minor": 2
}
